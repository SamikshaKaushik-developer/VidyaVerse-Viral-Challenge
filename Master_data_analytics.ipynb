{
  "nbformat": 4,
  "nbformat_minor": 0,
  "metadata": {
    "colab": {
      "provenance": [],
      "toc_visible": true
    },
    "kernelspec": {
      "name": "python3",
      "display_name": "Python 3"
    },
    "language_info": {
      "name": "python"
    }
  },
  "cells": [
    {
      "cell_type": "code",
      "execution_count": 1,
      "metadata": {
        "colab": {
          "base_uri": "https://localhost:8080/"
        },
        "id": "PKIUouOGqeSq",
        "outputId": "4f1c5ee9-0be8-4cd5-dc81-4fbcd0443d67"
      },
      "outputs": [
        {
          "output_type": "stream",
          "name": "stdout",
          "text": [
            "   student_id signup_date              course_name  source_campaign_id  \\\n",
            "0        2000  2024-01-01  Python For Data Science                1023   \n",
            "1        2002  2024-01-08  Python For Data Science                1000   \n",
            "2        2003  2024-01-05  Python For Data Science                1025   \n",
            "3        2013  2024-01-15       Data Analytics 101                1027   \n",
            "4        2022  2024-01-28  Machine Learning Basics                1019   \n",
            "\n",
            "   completion_percentage   platform  ad_spend  clicks  impressions  \n",
            "0                  27.88   LinkedIn  45267.23    3842        46104  \n",
            "1                  75.61  Instagram  21854.31    1360        25840  \n",
            "2                  93.37   LinkedIn  48252.74     837        15903  \n",
            "3                  19.98   LinkedIn  17642.05     879        14943  \n",
            "4                  29.66    YouTube  45919.42    2455        14730  \n"
          ]
        }
      ],
      "source": [
        "'''After doing alterations in MYSLQ workbench'''\n",
        "# Load the master_analytics_data.csv file into a DataFrame\n",
        "import pandas as pd\n",
        "try:\n",
        "    df = pd.read_csv('/content/master_analytics_data.csv')\n",
        "except FileNotFoundError:\n",
        "    print(\"Error: The file 'master_analytics_data.csv' was not found. Please ensure it's in the correct directory.\")\n",
        "    exit()\n",
        "print(df.head())"
      ]
    },
    {
      "cell_type": "code",
      "source": [
        "# Group by campaign to get accurate total ad spend for each campaign\n",
        "campaign_summary = df.groupby('source_campaign_id').agg(\n",
        "    total_ad_spend=('ad_spend', 'first') # Use 'first' since ad_spend should be the same for all rows from the same campaign\n",
        ").reset_index()\n",
        "\n",
        "# Calculate total signups from the entire dataset\n",
        "total_signups = df['student_id'].nunique()\n",
        "\n",
        "# Get the total ad spend from the campaign summary\n",
        "total_ad_spend = campaign_summary['total_ad_spend'].sum()\n",
        "\n",
        "# Calculate Cost Per Signup (CPS)\n",
        "cps = total_ad_spend / total_signups\n",
        "print(f\"Cost Per Signup (CPS): ${cps:.2f}\")\n",
        "\n",
        "# Calculate the number of completed students (completion > 90%)\n",
        "completed_students = df[df['completion_percentage'] > 90]['student_id'].nunique()\n",
        "\n",
        "# Calculate Cost Per Completed Student (CPCS) with error handling\n",
        "if completed_students > 0:\n",
        "    cpcs = total_ad_spend / completed_students\n",
        "    print(f\"Cost Per Completed Student (CPCS): ${cpcs:.2f}\")\n",
        "else:\n",
        "    print(\"No students completed more than 90% of a course, so CPCS cannot be calculated.\")"
      ],
      "metadata": {
        "colab": {
          "base_uri": "https://localhost:8080/"
        },
        "id": "yCv1nzUbqls-",
        "outputId": "603689f7-8474-4adf-fccd-fb7f0420226d"
      },
      "execution_count": 2,
      "outputs": [
        {
          "output_type": "stream",
          "name": "stdout",
          "text": [
            "Cost Per Signup (CPS): $3543.95\n",
            "Cost Per Completed Student (CPCS): $25313.95\n"
          ]
        }
      ]
    },
    {
      "cell_type": "code",
      "source": [
        "import pandas as pd\n",
        "import numpy as np\n",
        "\n",
        "# Assume 'df' is your DataFrame loaded from 'master_analytics_data.csv'\n",
        "# And that you have already cleaned the column names.\n",
        "\n",
        "# Step 1: Calculate campaign-level metrics\n",
        "# The previous code already calculated CPS and CPCS. Let's make sure our campaign_metrics table has all the data we need for the next step.\n",
        "campaign_metrics = df.groupby('source_campaign_id').agg(\n",
        "    ad_spend=('ad_spend', 'first'),\n",
        "    platform=('platform', 'first'),\n",
        "    total_signups=('student_id', 'count'),\n",
        "    completed_students=('completion_percentage', lambda x: (x > 90).sum())\n",
        ").reset_index()\n",
        "\n",
        "# Calculate CPS and CPCS for each campaign\n",
        "campaign_metrics['CPS'] = campaign_metrics['ad_spend'] / campaign_metrics['total_signups']\n",
        "campaign_metrics['CPCS'] = campaign_metrics['ad_spend'] / campaign_metrics['completed_students']\n",
        "\n",
        "# Fill any NaN values (from division by zero) with 0 for cleaner output\n",
        "campaign_metrics.fillna(0, inplace=True)\n",
        "\n",
        "# Step 2: Group and compare by platform\n",
        "# Now, group the campaign-level metrics by the 'platform' column.\n",
        "# We will calculate both the mean and the standard deviation for the cost metrics.\n",
        "platform_summary = campaign_metrics.groupby('platform').agg(\n",
        "    average_cps=('CPS', 'mean'),\n",
        "    std_dev_cps=('CPS', 'std'),\n",
        "    average_cpcs=('CPCS', 'mean'),\n",
        "    total_ad_spend=('ad_spend', 'sum')\n",
        ").reset_index()\n",
        "\n",
        "# Also, calculate the average and standard deviation of completion percentage\n",
        "# from the original DataFrame for each platform.\n",
        "completion_summary = df.groupby('platform').agg(\n",
        "    average_completion_percentage=('completion_percentage', 'mean'),\n",
        "    std_dev_completion_percentage=('completion_percentage', 'std')\n",
        ").reset_index()\n",
        "\n",
        "# Merge the two summaries for a complete view\n",
        "final_summary = pd.merge(platform_summary, completion_summary, on='platform')\n",
        "\n",
        "# Display the final summary table\n",
        "print(\"\\nPlatform-level Performance Summary:\")\n",
        "print(final_summary)\n"
      ],
      "metadata": {
        "colab": {
          "base_uri": "https://localhost:8080/"
        },
        "id": "9cuThXpJqoDe",
        "outputId": "73a49a36-bb8b-4f86-ede6-044cdc060f8c"
      },
      "execution_count": 3,
      "outputs": [
        {
          "output_type": "stream",
          "name": "stdout",
          "text": [
            "\n",
            "Platform-level Performance Summary:\n",
            "    platform  average_cps  std_dev_cps  average_cpcs  total_ad_spend  \\\n",
            "0  Instagram  4577.322006  4913.121001           inf       192817.08   \n",
            "1   LinkedIn  4172.811266  2762.738905           inf       273447.22   \n",
            "2    YouTube  4515.266447  3811.572294           inf       242526.21   \n",
            "\n",
            "   average_completion_percentage  std_dev_completion_percentage  \n",
            "0                      58.140000                      26.198574  \n",
            "1                      56.303514                      25.436750  \n",
            "2                      50.561429                      27.237625  \n"
          ]
        }
      ]
    },
    {
      "cell_type": "code",
      "source": [
        "final_summary.to_csv('Final_BDA_Project.csv', index=False)\n",
        "print(\"\\nSuccess! The final summary has been exported to 'platform_performance_summary.csv'.\")"
      ],
      "metadata": {
        "colab": {
          "base_uri": "https://localhost:8080/"
        },
        "id": "wM4_zHQZqqG_",
        "outputId": "1e23782a-768e-47c0-9794-64785f9a3e49"
      },
      "execution_count": 4,
      "outputs": [
        {
          "output_type": "stream",
          "name": "stdout",
          "text": [
            "\n",
            "Success! The final summary has been exported to 'platform_performance_summary.csv'.\n"
          ]
        }
      ]
    }
  ]
}